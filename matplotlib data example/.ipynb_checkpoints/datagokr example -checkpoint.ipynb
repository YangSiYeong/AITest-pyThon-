{
 "cells": [
  {
   "cell_type": "code",
   "execution_count": 8,
   "metadata": {},
   "outputs": [],
   "source": [
    "import os\n",
    "import sys\n",
    "import urllib.request\n",
    "import datetime\n",
    "import time\n",
    "import json\n",
    "from config import *\n",
    "import math\n",
    "\n",
    "def get_request_url(url):\n",
    "    \n",
    "    req = urllib.request.Request(url)\n",
    "    \n",
    "    try:\n",
    "        response = urllib.request.urlopen(req)\n",
    "        if response.getcode() == 200:\n",
    "            print(\"[%s] Url Request Success\" % datetime.datetime.now())\n",
    "            return response.read().decode('utf-8')\n",
    "    except Exception as e:\n",
    "        print(e)\n",
    "        print(\"[%s] Error for URL : %s\" %(datetime.datetime.now(), url))\n",
    "        return None\n",
    "    \n",
    "#[code 1]\n",
    "def getTourPointVisitor(yyyymm, sido, gungu, nPagenum, nltems):\n",
    "    end_point = \"http://openapi.tour.go.kr/openapi/service/TourismResourceStatsService/getPchrgTrrsrtVisitorList\"\n",
    "    \n",
    "    parameters = \"?_type=json&serviceKey=\" + access_key\n",
    "    parameters += \"&YM=\" + yyyymm\n",
    "    parameters += \"&SIDO=\" + urllib.parse/quote(sido)\n",
    "    parameters += \"&GUNGU=\" + urllib.parse.quote(gungu)\n",
    "    parameters += \"&RES_NM=&pageNo\" + str(nPagenum)\n",
    "    parameters += \"&numOfRows=\" + str(nltems)\n",
    "    \n",
    "    url = end_point + parameters\n",
    "    \n",
    "    retData = get_request_url(url)\n",
    "    \n",
    "    if (retData == None):\n",
    "        return None\n",
    "    else:\n",
    "        return json.loads(retData)\n",
    "    \n",
    "#[code 2]\n",
    "def getTourPointData(item, yyyymm, jsonResult):\n",
    "    \n",
    "    addrCd = 0 if 'addrCd' not in item.keys() else item['addrCd']"
   ]
  },
  {
   "cell_type": "code",
   "execution_count": null,
   "metadata": {},
   "outputs": [],
   "source": []
  }
 ],
 "metadata": {
  "kernelspec": {
   "display_name": "Python 3",
   "language": "python",
   "name": "python3"
  },
  "language_info": {
   "codemirror_mode": {
    "name": "ipython",
    "version": 3
   },
   "file_extension": ".py",
   "mimetype": "text/x-python",
   "name": "python",
   "nbconvert_exporter": "python",
   "pygments_lexer": "ipython3",
   "version": "3.6.5"
  }
 },
 "nbformat": 4,
 "nbformat_minor": 2
}
